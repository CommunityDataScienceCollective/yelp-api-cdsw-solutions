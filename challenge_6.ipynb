{
 "cells": [
  {
   "cell_type": "markdown",
   "metadata": {},
   "source": [
    "# Answer to Challenge 6\n",
    "What is the highest rated falafel place in Seattle?"
   ]
  },
  {
   "cell_type": "code",
   "execution_count": 1,
   "metadata": {
    "ExecuteTime": {
     "end_time": "2020-01-31T16:15:41.939437Z",
     "start_time": "2020-01-31T16:15:41.887157Z"
    }
   },
   "outputs": [],
   "source": [
    "# Import the modules\n",
    "import requests\n",
    "import json\n",
    "import yelp_authentication"
   ]
  },
  {
   "cell_type": "code",
   "execution_count": 2,
   "metadata": {
    "ExecuteTime": {
     "end_time": "2020-01-31T16:15:41.944017Z",
     "start_time": "2020-01-31T16:15:41.941415Z"
    }
   },
   "outputs": [],
   "source": [
    "# Define my API Key, my endpoint, and my header\n",
    "ENDPOINT = 'https://api.yelp.com/v3/businesses/search'\n",
    "HEADERS = {'Authorization': f\"bearer {yelp_authentication.APIKey}\"}"
   ]
  },
  {
   "cell_type": "code",
   "execution_count": 3,
   "metadata": {
    "ExecuteTime": {
     "end_time": "2020-01-31T16:15:42.891046Z",
     "start_time": "2020-01-31T16:15:41.946867Z"
    }
   },
   "outputs": [],
   "source": [
    "# Define my parameters of the search\n",
    "#   In this example, we're asking for:\n",
    "#   up to 50 places ('limit') that match falafel ('term')\n",
    "#   within 10000m ('radius') of Seattle ('location').\n",
    "# To find the highest rated place(s), we will also sort by rating.\n",
    "PARAMETERS = {'term': 'falafel',\n",
    "              'limit': 50,\n",
    "              'radius': 10000,\n",
    "              'location': 'Seattle',\n",
    "              'sort_by': 'rating'}\n",
    "\n",
    "# 4. Make a request to the Yelp API\n",
    "response = requests.get(url = ENDPOINT,\n",
    "                        params = PARAMETERS,\n",
    "                        headers = HEADERS)"
   ]
  },
  {
   "cell_type": "code",
   "execution_count": 4,
   "metadata": {
    "ExecuteTime": {
     "end_time": "2020-01-31T16:15:42.900285Z",
     "start_time": "2020-01-31T16:15:42.895784Z"
    }
   },
   "outputs": [],
   "source": [
    "# Get response\n",
    "#    .json() converts the JSON data Yelp gives us to something more usable in Python (dictionary)\n",
    "falafel = response.json()"
   ]
  },
  {
   "cell_type": "code",
   "execution_count": 5,
   "metadata": {
    "ExecuteTime": {
     "end_time": "2020-01-31T16:15:42.937173Z",
     "start_time": "2020-01-31T16:15:42.902533Z"
    }
   },
   "outputs": [
    {
     "name": "stdout",
     "output_type": "stream",
     "text": [
      "Gyro Time has a rating of 5.0, with 198 reviews.\n",
      "Gyro Heroes has a rating of 5.0, with 166 reviews.\n",
      "Aviv Hummus Bar has a rating of 4.5, with 215 reviews.\n",
      "Gorgeous George's Mediterranean Kitchen has a rating of 4.5, with 353 reviews.\n",
      "Mr Gyros has a rating of 4.5, with 1027 reviews.\n",
      "Med Mix has a rating of 4.5, with 81 reviews.\n",
      "Mykonos Greek Grill has a rating of 4.5, with 300 reviews.\n",
      "Aladdin Falafel Corner has a rating of 4.5, with 431 reviews.\n",
      "Eggs & Plants has a rating of 4.5, with 301 reviews.\n",
      "Ciudad has a rating of 4.5, with 281 reviews.\n",
      "Doner Box has a rating of 4.5, with 49 reviews.\n",
      "Petra Bistro has a rating of 4.0, with 1016 reviews.\n",
      "Niko's Gyros has a rating of 4.5, with 248 reviews.\n",
      "The Golden Olive has a rating of 4.5, with 365 reviews.\n",
      "Veggie Grill has a rating of 4.0, with 526 reviews.\n",
      "Lola has a rating of 4.0, with 3915 reviews.\n",
      "Urban Gyro has a rating of 4.5, with 77 reviews.\n",
      "Falafel Salam has a rating of 4.5, with 136 reviews.\n",
      "Shawarma King has a rating of 4.5, with 243 reviews.\n",
      "Kitchen Istanbul has a rating of 4.5, with 33 reviews.\n",
      "Mashawi Mediterranean Cuisine has a rating of 4.0, with 311 reviews.\n",
      "Aladdin Gyro-Cery has a rating of 4.0, with 468 reviews.\n",
      "Cafe Munir has a rating of 4.0, with 266 reviews.\n",
      "Bodrum Bistro Mediterranean has a rating of 4.0, with 167 reviews.\n",
      "Cafe Flora has a rating of 4.0, with 1188 reviews.\n",
      "Yalla Seattle has a rating of 4.5, with 48 reviews.\n",
      "Mr Gyros - Seattle has a rating of 4.5, with 96 reviews.\n",
      "Cedars of Lebanon has a rating of 4.0, with 182 reviews.\n",
      "Café Paloma has a rating of 4.0, with 188 reviews.\n",
      "Hummus Cafe has a rating of 4.0, with 199 reviews.\n",
      "Hallava Falafel has a rating of 4.0, with 208 reviews.\n",
      "Mr. D's Greek Delicacies has a rating of 4.0, with 239 reviews.\n",
      "Samir's Mediterranean Grill has a rating of 4.0, with 157 reviews.\n",
      "Al Basha has a rating of 4.0, with 204 reviews.\n",
      "Corvus & Company has a rating of 4.0, with 119 reviews.\n",
      "Taki's Mad Greek has a rating of 4.0, with 286 reviews.\n",
      "Mawadda Cafe has a rating of 4.0, with 230 reviews.\n",
      "Bananas Grill has a rating of 4.0, with 137 reviews.\n",
      "Mamnoon has a rating of 4.0, with 939 reviews.\n",
      "Falafel Salam has a rating of 4.0, with 100 reviews.\n",
      "Al Bacha Restaurant has a rating of 4.0, with 89 reviews.\n",
      "Sultan Gyro Grill & Shawarma has a rating of 4.0, with 142 reviews.\n",
      "Gyro Hut has a rating of 4.0, with 300 reviews.\n",
      "Sinbad Express has a rating of 4.0, with 267 reviews.\n",
      "Vios Cafe has a rating of 4.0, with 268 reviews.\n",
      "Zaina Food Drinks & Friends has a rating of 4.0, with 198 reviews.\n",
      "Gyro Stop has a rating of 4.0, with 98 reviews.\n",
      "The Berliner Döner Kebab has a rating of 4.0, with 247 reviews.\n",
      "Athina Grill has a rating of 4.0, with 285 reviews.\n",
      "Mean Sandwich has a rating of 4.0, with 164 reviews.\n"
     ]
    }
   ],
   "source": [
    "# For each business, write a line to the file\n",
    "for business in falafel['businesses']:\n",
    "    print(f\"{business['name']} has a rating of {business['rating']}, with {business['review_count']} reviews.\")"
   ]
  },
  {
   "cell_type": "code",
   "execution_count": null,
   "metadata": {},
   "outputs": [],
   "source": []
  }
 ],
 "metadata": {
  "kernelspec": {
   "display_name": "Python 3",
   "language": "python",
   "name": "python3"
  },
  "language_info": {
   "codemirror_mode": {
    "name": "ipython",
    "version": 3
   },
   "file_extension": ".py",
   "mimetype": "text/x-python",
   "name": "python",
   "nbconvert_exporter": "python",
   "pygments_lexer": "ipython3",
   "version": "3.7.1"
  }
 },
 "nbformat": 4,
 "nbformat_minor": 4
}
