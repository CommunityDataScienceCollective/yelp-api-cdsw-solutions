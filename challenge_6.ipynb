{
 "cells": [
  {
   "cell_type": "markdown",
   "metadata": {},
   "source": [
    "# Answer to Challenge 6\n",
    "What is the highest rated falafel place in Seattle?"
   ]
  },
  {
   "cell_type": "code",
   "execution_count": null,
   "metadata": {
    "ExecuteTime": {
     "end_time": "2020-01-31T16:15:41.939437Z",
     "start_time": "2020-01-31T16:15:41.887157Z"
    }
   },
   "outputs": [],
   "source": [
    "# Import the modules\n",
    "import requests\n",
    "import yelp_authentication"
   ]
  },
  {
   "cell_type": "code",
   "execution_count": null,
   "metadata": {
    "ExecuteTime": {
     "end_time": "2020-01-31T16:15:41.944017Z",
     "start_time": "2020-01-31T16:15:41.941415Z"
    }
   },
   "outputs": [],
   "source": [
    "# Define my API Key, my endpoint, and my header\n",
    "ENDPOINT = 'https://api.yelp.com/v3/businesses/search'\n",
    "HEADERS = {'Authorization': f\"bearer {yelp_authentication.APIKey}\"}"
   ]
  },
  {
   "cell_type": "code",
   "execution_count": null,
   "metadata": {
    "ExecuteTime": {
     "end_time": "2020-01-31T16:15:42.891046Z",
     "start_time": "2020-01-31T16:15:41.946867Z"
    }
   },
   "outputs": [],
   "source": [
    "# Define my parameters of the search\n",
    "#   In this example, we're asking for:\n",
    "#   match falafel ('term')\n",
    "#   within 10000m ('radius') of Seattle ('location').\n",
    "# To find the highest rated place(s), we will also sort by rating and take 1 at the top\n",
    "PARAMETERS = {'term': 'falafel',\n",
    "              'radius': 10000,\n",
    "              'location': 'Seattle',\n",
    "              'sort_by': 'rating',\n",
    "              'limit': 1}\n",
    "\n",
    "# Make a request to the Yelp API\n",
    "response = requests.get(url = ENDPOINT,\n",
    "                        params = PARAMETERS,\n",
    "                        headers = HEADERS)"
   ]
  },
  {
   "cell_type": "code",
   "execution_count": null,
   "metadata": {
    "ExecuteTime": {
     "end_time": "2020-01-31T16:15:42.900285Z",
     "start_time": "2020-01-31T16:15:42.895784Z"
    }
   },
   "outputs": [],
   "source": [
    "# Get response\n",
    "#    .json() converts the JSON data Yelp gives us to something more usable in Python (dictionary)\n",
    "falafel = response.json()"
   ]
  },
  {
   "cell_type": "code",
   "execution_count": null,
   "metadata": {
    "ExecuteTime": {
     "end_time": "2020-01-31T16:15:42.937173Z",
     "start_time": "2020-01-31T16:15:42.902533Z"
    }
   },
   "outputs": [],
   "source": [
    "# For each business, write a line to the file\n",
    "for business in falafel['businesses']:\n",
    "    print(f\"{business['name']} has a rating of {business['rating']}, with {business['review_count']} reviews.\")"
   ]
  },
  {
   "cell_type": "code",
   "execution_count": null,
   "metadata": {},
   "outputs": [],
   "source": []
  }
 ],
 "metadata": {
  "kernelspec": {
   "display_name": "Python 3",
   "language": "python",
   "name": "python3"
  },
  "language_info": {
   "codemirror_mode": {
    "name": "ipython",
    "version": 3
   },
   "file_extension": ".py",
   "mimetype": "text/x-python",
   "name": "python",
   "nbconvert_exporter": "python",
   "pygments_lexer": "ipython3",
   "version": "3.7.5"
  }
 },
 "nbformat": 4,
 "nbformat_minor": 4
}
