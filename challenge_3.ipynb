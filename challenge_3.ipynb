{
 "cells": [
  {
   "cell_type": "markdown",
   "metadata": {},
   "source": [
    "# Answer to Challenge 3\n",
    "Instead of rating information, print out phone numbers... but what will we do if we don't have phone numbers?"
   ]
  },
  {
   "cell_type": "code",
   "execution_count": 6,
   "metadata": {
    "ExecuteTime": {
     "end_time": "2020-01-31T06:26:43.507720Z",
     "start_time": "2020-01-31T06:26:43.504248Z"
    }
   },
   "outputs": [],
   "source": [
    "# Import the modules\n",
    "import requests\n",
    "import json\n",
    "import yelp_authentication"
   ]
  },
  {
   "cell_type": "code",
   "execution_count": 7,
   "metadata": {
    "ExecuteTime": {
     "end_time": "2020-01-31T06:26:50.029548Z",
     "start_time": "2020-01-31T06:26:50.025614Z"
    }
   },
   "outputs": [],
   "source": [
    "# Define my API Key, my endpoint, and my header\n",
    "ENDPOINT = 'https://api.yelp.com/v3/businesses/search'\n",
    "HEADERS = {'Authorization': f\"bearer {yelp_authentication.APIKey}\"}"
   ]
  },
  {
   "cell_type": "code",
   "execution_count": 8,
   "metadata": {
    "ExecuteTime": {
     "end_time": "2020-01-31T06:26:59.215518Z",
     "start_time": "2020-01-31T06:26:58.433678Z"
    }
   },
   "outputs": [],
   "source": [
    "# Define my parameters of the search\n",
    "#   In this example, we're asking for:\n",
    "#   up to 50 places ('limit') that match pasta ('term')\n",
    "#   within 10000m ('radius') of Seattle ('location').\n",
    "PARAMETERS = {'term': 'pasta',\n",
    "              'limit': 50,\n",
    "              'radius': 10000,\n",
    "              'location': 'Seattle'}\n",
    "\n",
    "# 4. Make a request to the Yelp API\n",
    "response = requests.get(url = ENDPOINT,\n",
    "                        params = PARAMETERS,\n",
    "                        headers = HEADERS)"
   ]
  },
  {
   "cell_type": "code",
   "execution_count": 9,
   "metadata": {
    "ExecuteTime": {
     "end_time": "2020-01-31T06:27:27.203915Z",
     "start_time": "2020-01-31T06:27:27.200205Z"
    }
   },
   "outputs": [],
   "source": [
    "# Get response\n",
    "#    .json() converts the JSON data Yelp gives us to something more usable in Python (dictionary)\n",
    "pasta = response.json()"
   ]
  },
  {
   "cell_type": "code",
   "execution_count": 13,
   "metadata": {
    "ExecuteTime": {
     "end_time": "2020-01-31T06:30:47.487869Z",
     "start_time": "2020-01-31T06:30:47.475800Z"
    }
   },
   "outputs": [
    {
     "name": "stdout",
     "output_type": "stream",
     "text": [
      "Il Corvo Pasta's phone number is (206) 538-0999\n",
      "G.H. Pasta Co.'s phone number is (206) 402-6210\n",
      "Pasta Casalinga's phone number is (206) 445-2987\n",
      "Due' Cucina Italiana's phone number is (206) 397-4375\n",
      "Pasta Bella's phone number is (206) 789-4933\n",
      "Tavolàta's phone number is (206) 420-8355\n",
      "Cascina Spinasse's phone number is (206) 251-7673\n",
      "The Pink Door's phone number is (206) 443-3241\n",
      "Brunello Ristorante's phone number is (206) 527-4778\n",
      "Il Nido's phone number is (206) 466-6265\n",
      "Cortina's phone number is (206) 736-7888\n",
      "Tavolàta's phone number is (206) 838-8008\n",
      "Pizza and Pasta Bar's phone number is (206) 621-7545\n",
      "La Pasta's phone number is (206) 408-8578\n",
      "Ristorante Machiavelli's phone number is (206) 621-7941\n",
      "Pomodoro's phone number is (206) 324-3160\n",
      "Carrello's phone number is (206) 257-5622\n",
      "Bizzarro Italian Cafe's phone number is (206) 632-7277\n",
      "Le Messe's phone number is (206) 402-6106\n",
      "List's phone number is (206) 441-1000\n",
      "La Pasta's has no phone number available\n",
      "Artusi's phone number is (206) 251-7673\n",
      "Assaggio Ristorante's phone number is (206) 441-1399\n",
      "Raccolto's phone number is (206) 397-3775\n",
      "Aglio e Olio's phone number is (206) 709-8883\n",
      "Intermezzo Carmine's phone number is (206) 596-8940\n",
      "Andare Kitchen & Bar's phone number is (206) 973-1234\n",
      "Von's 1000 Spirits's phone number is (206) 621-8667\n",
      "San Fermo's phone number is (206) 342-1530\n",
      "Barolo Ristorante's phone number is (206) 770-9000\n",
      "La Rustica's phone number is (206) 932-3020\n",
      "Pappardelle's Pasta's phone number is (206) 340-4114\n",
      "Orfeo's phone number is (206) 443-1972\n",
      "Phoenecia's has no phone number available\n",
      "How To Cook a Wolf's phone number is (206) 838-8090\n",
      "Mondello Ristorante Italiano's phone number is (206) 352-8700\n",
      "Rione XIII's phone number is (206) 838-2878\n",
      "Fiasco's phone number is (206) 737-8743\n",
      "Pasta & Co's phone number is (206) 523-8594\n",
      "Pizzeria Credo's phone number is (206) 402-3784\n",
      "Bar Cotto's phone number is (206) 838-8081\n",
      "Vito's's phone number is (206) 397-4053\n",
      "Ristorante Picolinos's phone number is (206) 781-8000\n",
      "Palermo-Ballard's phone number is (206) 297-2727\n",
      "Cinque Terre Ristorante's phone number is (206) 456-6300\n",
      "Agrodolce's phone number is (206) 547-9707\n",
      "Princi's phone number is (206) 623-5488\n",
      "In Bocca Al Lupo's phone number is (206) 547-2144\n",
      "La Fontana Siciliana's phone number is (206) 441-1045\n",
      "La Vita E Bella's phone number is (206) 441-5322\n"
     ]
    }
   ],
   "source": [
    "# 6. For each business, print the phone number if there is one\n",
    "for business in pasta[\"businesses\"]:\n",
    "    if 'display_phone' in business and business['display_phone'] != \"\":\n",
    "        print(f\"{business['name']}\\'s phone number is {business['display_phone']}\")\n",
    "    else:\n",
    "        print(f\"{business['name']}\\'s has no phone number available\")"
   ]
  },
  {
   "cell_type": "code",
   "execution_count": null,
   "metadata": {},
   "outputs": [],
   "source": []
  }
 ],
 "metadata": {
  "kernelspec": {
   "display_name": "Python 3",
   "language": "python",
   "name": "python3"
  },
  "language_info": {
   "codemirror_mode": {
    "name": "ipython",
    "version": 3
   },
   "file_extension": ".py",
   "mimetype": "text/x-python",
   "name": "python",
   "nbconvert_exporter": "python",
   "pygments_lexer": "ipython3",
   "version": "3.7.1"
  }
 },
 "nbformat": 4,
 "nbformat_minor": 4
}
