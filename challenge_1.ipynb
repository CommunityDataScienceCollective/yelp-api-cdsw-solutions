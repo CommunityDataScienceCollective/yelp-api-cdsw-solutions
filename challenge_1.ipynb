{
 "cells": [
  {
   "cell_type": "markdown",
   "metadata": {},
   "source": [
    "# Answer to Challenge 1\n",
    "\n",
    "Search in a different places (your home town?)"
   ]
  },
  {
   "cell_type": "code",
   "execution_count": null,
   "metadata": {},
   "outputs": [],
   "source": [
    "import requests\n",
    "import json\n",
    "import yelp_authentication"
   ]
  },
  {
   "cell_type": "code",
   "execution_count": null,
   "metadata": {},
   "outputs": [],
   "source": [
    "ENDPOINT = 'https://api.yelp.com/v3/businesses/search'\n",
    "HEADERS = {'Authorization': f'bearer {yelp_authentication.APIKey}'}"
   ]
  },
  {
   "cell_type": "code",
   "execution_count": null,
   "metadata": {},
   "outputs": [],
   "source": [
    "# Define a variable for location \n",
    "LOCATION = 'Seattle'\n",
    "\n",
    "# Define other parameters of the search\n",
    "#   In this example, we're asking for:\n",
    "#   up to 50 places ('limit') that match pasta ('term')\n",
    "#   within 10000m ('radius') of Seattle ('location').\n",
    "PARAMETERS = {'term': 'pasta',\n",
    "              'sort_by': 'rating',\n",
    "              'limit': 50,\n",
    "              'radius': 10000,\n",
    "              'location': LOCATION}\n",
    "\n",
    "# Make a request to the Yelp API\n",
    "response = requests.get(url = ENDPOINT,\n",
    "                        params = PARAMETERS,\n",
    "                        headers = HEADERS)"
   ]
  },
  {
   "cell_type": "code",
   "execution_count": null,
   "metadata": {},
   "outputs": [],
   "source": [
    "json = response.json()\n",
    "businesses = json['businesses']\n",
    "\n",
    "print('Business               Rating')\n",
    "print('-----------------------------')\n",
    "for business in businesses:\n",
    "    print(f'{business[\"name\"]:25} {business[\"rating\"]}')"
   ]
  },
  {
   "cell_type": "code",
   "execution_count": null,
   "metadata": {},
   "outputs": [],
   "source": []
  }
 ],
 "metadata": {
  "kernelspec": {
   "display_name": "Python 3",
   "language": "python",
   "name": "python3"
  },
  "language_info": {
   "codemirror_mode": {
    "name": "ipython",
    "version": 3
   },
   "file_extension": ".py",
   "mimetype": "text/x-python",
   "name": "python",
   "nbconvert_exporter": "python",
   "pygments_lexer": "ipython3",
   "version": "3.7.5"
  }
 },
 "nbformat": 4,
 "nbformat_minor": 4
}
