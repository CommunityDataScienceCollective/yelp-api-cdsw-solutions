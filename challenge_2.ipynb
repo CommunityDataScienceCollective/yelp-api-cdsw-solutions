{
 "cells": [
  {
   "cell_type": "markdown",
   "metadata": {},
   "source": [
    "# Answer to Challenge 2\n",
    "\n",
    "Change your search in some way described in the API documentation (e.g., use a price filter and custom sorting)"
   ]
  },
  {
   "cell_type": "code",
   "execution_count": null,
   "metadata": {},
   "outputs": [],
   "source": [
    "import requests\n",
    "import yelp_authentication"
   ]
  },
  {
   "cell_type": "code",
   "execution_count": null,
   "metadata": {},
   "outputs": [],
   "source": [
    "ENDPOINT = 'https://api.yelp.com/v3/businesses/search'\n",
    "HEADERS = {'Authorization': f'bearer {yelp_authentication.APIKey}'}"
   ]
  },
  {
   "cell_type": "code",
   "execution_count": null,
   "metadata": {},
   "outputs": [],
   "source": [
    "# Define parameters from https://www.yelp.com/developers/documentation/v3/business_search\n",
    "PARAMETERS = {'categories': 'hotels',\n",
    "              'sort_by': 'rating',\n",
    "              'price': '3, 4',\n",
    "              'limit': 10,\n",
    "              'radius': 10000,\n",
    "              'location': 'Seattle'}\n",
    "\n",
    "# Make a request to the Yelp API\n",
    "response = requests.get(url = ENDPOINT,\n",
    "                        params = PARAMETERS,\n",
    "                        headers = HEADERS)"
   ]
  },
  {
   "cell_type": "code",
   "execution_count": null,
   "metadata": {},
   "outputs": [],
   "source": [
    "json = response.json()\n",
    "businesses = json['businesses']\n",
    "\n",
    "print('Business                       Rating Price')\n",
    "print('-------------------------------------------')\n",
    "for business in businesses:\n",
    "    print(f'{business[\"name\"]:30} {business[\"rating\"]:>6} {business[\"price\"]:>5}')"
   ]
  },
  {
   "cell_type": "code",
   "execution_count": null,
   "metadata": {},
   "outputs": [],
   "source": []
  }
 ],
 "metadata": {
  "kernelspec": {
   "display_name": "Python 3",
   "language": "python",
   "name": "python3"
  },
  "language_info": {
   "codemirror_mode": {
    "name": "ipython",
    "version": 3
   },
   "file_extension": ".py",
   "mimetype": "text/x-python",
   "name": "python",
   "nbconvert_exporter": "python",
   "pygments_lexer": "ipython3",
   "version": "3.7.5"
  }
 },
 "nbformat": 4,
 "nbformat_minor": 4
}
