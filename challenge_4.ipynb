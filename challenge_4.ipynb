{
 "cells": [
  {
   "cell_type": "markdown",
   "metadata": {},
   "source": [
    "# Answer to Challenge 4\n",
    "Open a file and save the answers to a file instead of just printing them out"
   ]
  },
  {
   "cell_type": "code",
   "execution_count": 1,
   "metadata": {
    "ExecuteTime": {
     "end_time": "2020-01-31T06:39:09.433519Z",
     "start_time": "2020-01-31T06:39:09.369414Z"
    }
   },
   "outputs": [],
   "source": [
    "# Import the modules\n",
    "import requests\n",
    "import json\n",
    "import yelp_authentication"
   ]
  },
  {
   "cell_type": "code",
   "execution_count": 2,
   "metadata": {
    "ExecuteTime": {
     "end_time": "2020-01-31T06:39:17.048108Z",
     "start_time": "2020-01-31T06:39:17.045226Z"
    }
   },
   "outputs": [],
   "source": [
    "# Define my API Key, my endpoint, and my header\n",
    "ENDPOINT = 'https://api.yelp.com/v3/businesses/search'\n",
    "HEADERS = {'Authorization': f\"bearer {yelp_authentication.APIKey}\"}"
   ]
  },
  {
   "cell_type": "code",
   "execution_count": 3,
   "metadata": {
    "ExecuteTime": {
     "end_time": "2020-01-31T06:39:23.179315Z",
     "start_time": "2020-01-31T06:39:22.047719Z"
    }
   },
   "outputs": [],
   "source": [
    "# Define my parameters of the search\n",
    "#   In this example, we're asking for:\n",
    "#   up to 50 places ('limit') that match pasta ('term')\n",
    "#   within 10000m ('radius') of Seattle ('location').\n",
    "PARAMETERS = {'term': 'pasta',\n",
    "              'limit': 50,\n",
    "              'radius': 10000,\n",
    "              'location': 'Seattle'}\n",
    "\n",
    "# 4. Make a request to the Yelp API\n",
    "response = requests.get(url = ENDPOINT,\n",
    "                        params = PARAMETERS,\n",
    "                        headers = HEADERS)"
   ]
  },
  {
   "cell_type": "code",
   "execution_count": 4,
   "metadata": {
    "ExecuteTime": {
     "end_time": "2020-01-31T06:39:23.791986Z",
     "start_time": "2020-01-31T06:39:23.788752Z"
    }
   },
   "outputs": [],
   "source": [
    "# Get response\n",
    "#    .json() converts the JSON data Yelp gives us to something more usable in Python (dictionary)\n",
    "pasta = response.json()"
   ]
  },
  {
   "cell_type": "code",
   "execution_count": 9,
   "metadata": {
    "ExecuteTime": {
     "end_time": "2020-01-31T06:46:50.462437Z",
     "start_time": "2020-01-31T06:46:50.458407Z"
    }
   },
   "outputs": [],
   "source": [
    "# open a file for writing\n",
    "# We will output the answer in tab-separated values format (TSV) into a file called \"seattle_pasta.tsv\".\n",
    "output_file = open(\"seattle_pasta.tsv\", 'w')"
   ]
  },
  {
   "cell_type": "code",
   "execution_count": 10,
   "metadata": {
    "ExecuteTime": {
     "end_time": "2020-01-31T06:46:51.113432Z",
     "start_time": "2020-01-31T06:46:51.108710Z"
    }
   },
   "outputs": [],
   "source": [
    "# For each business, write a line to the file\n",
    "for business in pasta['businesses']:\n",
    "    line_string = f\"{business['name']}\\t{business['id']}\\t{business['rating']}\\t{business['review_count']}\\t{business['location']['display_address']}\\n\"\n",
    "    output_file.write(line_string)"
   ]
  },
  {
   "cell_type": "code",
   "execution_count": 11,
   "metadata": {
    "ExecuteTime": {
     "end_time": "2020-01-31T06:46:51.574518Z",
     "start_time": "2020-01-31T06:46:51.571722Z"
    }
   },
   "outputs": [],
   "source": [
    "# close the file\n",
    "output_file.close()"
   ]
  },
  {
   "cell_type": "code",
   "execution_count": null,
   "metadata": {},
   "outputs": [],
   "source": []
  }
 ],
 "metadata": {
  "kernelspec": {
   "display_name": "Python 3",
   "language": "python",
   "name": "python3"
  },
  "language_info": {
   "codemirror_mode": {
    "name": "ipython",
    "version": 3
   },
   "file_extension": ".py",
   "mimetype": "text/x-python",
   "name": "python",
   "nbconvert_exporter": "python",
   "pygments_lexer": "ipython3",
   "version": "3.7.1"
  }
 },
 "nbformat": 4,
 "nbformat_minor": 4
}
